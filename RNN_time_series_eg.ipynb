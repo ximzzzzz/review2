{
 "cells": [
  {
   "cell_type": "code",
   "execution_count": 1,
   "metadata": {},
   "outputs": [],
   "source": [
    "import numpy as np\n",
    "import tensorflow as tf"
   ]
  },
  {
   "cell_type": "code",
   "execution_count": 2,
   "metadata": {},
   "outputs": [],
   "source": [
    "t_min, t_max = 0, 30\n",
    "resolution = 0.1\n",
    "\n",
    "def time_series(t):\n",
    "    return t * np.sin(t) / 3+2*np.sin(t*5)\n",
    "\n",
    "def next_batch(batch_size , n_steps):\n",
    "    t0 = np.random.rand(batch_size,1) * (t_max - t_min - n_steps *resolution)\n",
    "    Ts = t0 + np.arange(0., n_steps+1) *resolution\n",
    "    ys = time_series(Ts)\n",
    "    return ys[:, :-1].reshape(-1, n_steps,1), ys[:, 1:].reshape(-1, n_steps,1)\n",
    "\n",
    "t = np.linspace(t_min, t_max, int((t_max - t_min / resolution)))\n",
    "n_steps = 20\n",
    "t_instance = np.linspace(12.2, 12.2 + resolution * (n_steps +1), n_steps +1)"
   ]
  },
  {
   "cell_type": "code",
   "execution_count": 7,
   "metadata": {},
   "outputs": [
    {
     "name": "stdout",
     "output_type": "stream",
     "text": [
      "(30,)\n"
     ]
    },
    {
     "data": {
      "text/plain": [
       "array([ 0.        ,  1.03448276,  2.06896552,  3.10344828,  4.13793103,\n",
       "        5.17241379,  6.20689655,  7.24137931,  8.27586207,  9.31034483,\n",
       "       10.34482759, 11.37931034, 12.4137931 , 13.44827586, 14.48275862,\n",
       "       15.51724138, 16.55172414, 17.5862069 , 18.62068966, 19.65517241,\n",
       "       20.68965517, 21.72413793, 22.75862069, 23.79310345, 24.82758621,\n",
       "       25.86206897, 26.89655172, 27.93103448, 28.96551724, 30.        ])"
      ]
     },
     "execution_count": 7,
     "metadata": {},
     "output_type": "execute_result"
    }
   ],
   "source": [
    "print(t.shape)\n",
    "t"
   ]
  },
  {
   "cell_type": "code",
   "execution_count": 8,
   "metadata": {},
   "outputs": [
    {
     "data": {
      "text/plain": [
       "array([12.2  , 12.305, 12.41 , 12.515, 12.62 , 12.725, 12.83 , 12.935,\n",
       "       13.04 , 13.145, 13.25 , 13.355, 13.46 , 13.565, 13.67 , 13.775,\n",
       "       13.88 , 13.985, 14.09 , 14.195, 14.3  ])"
      ]
     },
     "execution_count": 8,
     "metadata": {},
     "output_type": "execute_result"
    }
   ],
   "source": [
    "t_instance"
   ]
  },
  {
   "cell_type": "code",
   "execution_count": 10,
   "metadata": {},
   "outputs": [
    {
     "name": "stdout",
     "output_type": "stream",
     "text": [
      "(30,)\n"
     ]
    },
    {
     "data": {
      "text/plain": [
       "array([  0.        ,  -1.4956698 ,  -0.98542969,   0.41858562,\n",
       "         0.77000013,  -0.21216204,  -0.90220748,  -0.01897261,\n",
       "         1.49086694,   1.43727085,  -0.75611993,  -2.83542147,\n",
       "        -2.01093157,   1.55149868,   4.22912428,   2.61154232,\n",
       "        -2.360916  ,  -5.65429883,  -3.22904775,   3.17576695,\n",
       "         7.09278874,   3.85531419,  -3.98529156,  -8.52646825,\n",
       "        -4.48438203,   4.77686085,   9.93774955,   5.11263177,\n",
       "        -5.53633624, -11.3100691 ])"
      ]
     },
     "execution_count": 10,
     "metadata": {},
     "output_type": "execute_result"
    }
   ],
   "source": [
    "print(time_series(t).shape)\n",
    "time_series(t)"
   ]
  },
  {
   "cell_type": "code",
   "execution_count": 3,
   "metadata": {},
   "outputs": [
    {
     "name": "stdout",
     "output_type": "stream",
     "text": [
      "WARNING:tensorflow:From <ipython-input-3-de74dee3658e>:9: BasicRNNCell.__init__ (from tensorflow.python.ops.rnn_cell_impl) is deprecated and will be removed in a future version.\n",
      "Instructions for updating:\n",
      "This class is equivalent as tf.keras.layers.SimpleRNNCell, and will be replaced by that in Tensorflow 2.0.\n",
      "iteration : 000, loss : 12.9827\n",
      "iteration : 100, loss : 0.5162\n",
      "iteration : 200, loss : 0.1709\n",
      "iteration : 300, loss : 0.0910\n",
      "iteration : 400, loss : 0.0541\n",
      "iteration : 500, loss : 0.0483\n",
      "iteration : 600, loss : 0.0563\n",
      "iteration : 700, loss : 0.0392\n",
      "iteration : 800, loss : 0.0531\n",
      "iteration : 900, loss : 0.0446\n"
     ]
    }
   ],
   "source": [
    "n_steps = 20\n",
    "n_neurons = 120\n",
    "n_inputs = 1\n",
    "n_outputs = 1\n",
    "\n",
    "X = tf.placeholder(tf.float32, [None, n_steps, n_inputs])\n",
    "y = tf.placeholder(tf.float32, [None, n_steps, n_outputs])\n",
    "\n",
    "cell = tf.nn.rnn_cell.BasicRNNCell(num_units = n_neurons, activation = tf.nn.relu)\n",
    "rnn_outputs, states = tf.nn.dynamic_rnn(cell, X,dtype = tf.float32)\n",
    "\n",
    "#하나출력을 위한 프로세스\n",
    "stacked_rnn_outputs = tf.reshape(tensor= rnn_outputs, shape = [-1, n_neurons])\n",
    "stacked_outputs = tf.layers.dense(stacked_rnn_outputs,units = n_outputs)\n",
    "predictions = tf.reshape(stacked_outputs, [-1, n_steps, n_outputs])\n",
    "\n",
    "#train\n",
    "learning_rate = 0.001\n",
    "n_iterations = 1000\n",
    "batch_size = 50\n",
    "\n",
    "mse = tf.losses.mean_squared_error(labels = y, predictions = predictions)\n",
    "train_op = tf.train.AdamOptimizer(learning_rate).minimize(mse)\n",
    "\n",
    "with tf.Session() as sess:\n",
    "    tf.global_variables_initializer().run()\n",
    "    for iteration in range(n_iterations):\n",
    "        batch_x, batch_y = next_batch(batch_size, n_steps)\n",
    "        sess.run(train_op, feed_dict={X: batch_x, y:batch_y})\n",
    "        \n",
    "        if iteration % 100 == 0:\n",
    "            loss = mse.eval(feed_dict={X:batch_x, y: batch_y})\n",
    "            print('iteration : {:03d}, loss : {:.4f}'.format(iteration, loss))"
   ]
  },
  {
   "cell_type": "code",
   "execution_count": null,
   "metadata": {},
   "outputs": [],
   "source": []
  }
 ],
 "metadata": {
  "kernelspec": {
   "display_name": "Python 3",
   "language": "python",
   "name": "python3"
  },
  "language_info": {
   "codemirror_mode": {
    "name": "ipython",
    "version": 3
   },
   "file_extension": ".py",
   "mimetype": "text/x-python",
   "name": "python",
   "nbconvert_exporter": "python",
   "pygments_lexer": "ipython3",
   "version": "3.6.7"
  }
 },
 "nbformat": 4,
 "nbformat_minor": 2
}
